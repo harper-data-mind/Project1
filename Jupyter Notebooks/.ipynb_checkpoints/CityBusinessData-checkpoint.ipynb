{
 "cells": [
  {
   "cell_type": "code",
   "execution_count": 17,
   "metadata": {},
   "outputs": [],
   "source": [
    "#dependencies\n",
    "import csv\n",
    "import pandas as pd\n",
    "import matplotlib.pyplot as plt\n",
    "import numpy as np"
   ]
  },
  {
   "cell_type": "code",
   "execution_count": 18,
   "metadata": {},
   "outputs": [],
   "source": [
    "# opening excel file and locating only the cities identified by the group for strong leave and strong for votes for 2016\n",
    "file = \"../Resources/businessdemographyexceltablesthru2016_cities.xlsx\"\n",
    "cities_business_data_2016 = pd.read_excel(file,sheet_name=\"Table 5.1e\")\n",
    "cities_business_data_2016 = cities_business_data_2016.rename(columns={\"Unnamed: 0\":\"City\",\"Unnamed: 1\":\"Births\"})\n",
    "cities_business_data_2016 = cities_business_data_2016.iloc[:,0:2]\n",
    "cities_business_data_2016.dropna(how='any')\n",
    "cities_business_data_2016 = cities_business_data_2016.loc[(cities_business_data_2016[\"City\"]==\"            Boston\")|\n",
    "                                                          (cities_business_data_2016[\"City\"]==\"        North East Lincolnshire UA\")|\n",
    "                                                          (cities_business_data_2016[\"City\"]==\"            Castle Point\")|\n",
    "                                                         (cities_business_data_2016[\"City\"]==\"            Havering\")|\n",
    "                                                         (cities_business_data_2016[\"City\"]==\"            Cambridge\")|\n",
    "                                                         (cities_business_data_2016[\"City\"]==\"            Oxford\")|\n",
    "                                                         (cities_business_data_2016[\"City\"]==\"City of Edinburgh\")|\n",
    "                                                         (cities_business_data_2016[\"City\"]==\"            Lambeth\")]\n",
    "# cities_business_data_2016"
   ]
  },
  {
   "cell_type": "code",
   "execution_count": 19,
   "metadata": {},
   "outputs": [],
   "source": [
    "# opening excel file and locating only the cities identified by the group for strong leave and strong for votes for 2015\n",
    "file = \"../Resources/businessdemographyexceltablesthru2016_cities.xlsx\"\n",
    "cities_business_data_2015 = pd.read_excel(file,sheet_name=\"Table 5.1d\")\n",
    "cities_business_data_2015 = cities_business_data_2015.rename(columns={\"Unnamed: 0\":\"City\",\"Unnamed: 1\":\"Births\"})\n",
    "cities_business_data_2015 = cities_business_data_2015.iloc[:,0:2]\n",
    "cities_business_data_2015.dropna(how='any')\n",
    "cities_business_data_2015 = cities_business_data_2015.loc[(cities_business_data_2015[\"City\"]==\"            Boston\")|\n",
    "                                                          (cities_business_data_2015[\"City\"]==\"        North East Lincolnshire UA\")|\n",
    "                                                          (cities_business_data_2015[\"City\"]==\"            Castle Point\")|\n",
    "                                                         (cities_business_data_2015[\"City\"]==\"            Havering\")|\n",
    "                                                         (cities_business_data_2015[\"City\"]==\"            Cambridge\")|\n",
    "                                                         (cities_business_data_2015[\"City\"]==\"            Oxford\")|\n",
    "                                                         (cities_business_data_2015[\"City\"]==\"City of Edinburgh\")|\n",
    "                                                         (cities_business_data_2015[\"City\"]==\"            Lambeth\")]\n",
    "# cities_business_data_2015"
   ]
  },
  {
   "cell_type": "code",
   "execution_count": 20,
   "metadata": {},
   "outputs": [],
   "source": [
    "# opening excel file and locating only the cities identified by the group for strong leave and strong for votes for 2014\n",
    "file = \"../Resources/businessdemographyexceltablesthru2016_cities.xlsx\"\n",
    "cities_business_data_2014 = pd.read_excel(file,sheet_name=\"Table 5.1c\")\n",
    "cities_business_data_2014 = cities_business_data_2014.rename(columns={\"Unnamed: 0\":\"City\",\"Unnamed: 1\":\"Births\"})\n",
    "cities_business_data_2014 = cities_business_data_2014.iloc[:,0:2]\n",
    "cities_business_data_2014.dropna(how='any')\n",
    "cities_business_data_2014 = cities_business_data_2014.loc[(cities_business_data_2014[\"City\"]==\"            Boston\")|\n",
    "                                                          (cities_business_data_2014[\"City\"]==\"        North East Lincolnshire UA\")|\n",
    "                                                          (cities_business_data_2014[\"City\"]==\"            Castle Point\")|\n",
    "                                                         (cities_business_data_2014[\"City\"]==\"            Havering\")|\n",
    "                                                         (cities_business_data_2014[\"City\"]==\"            Cambridge\")|\n",
    "                                                         (cities_business_data_2014[\"City\"]==\"            Oxford\")|\n",
    "                                                         (cities_business_data_2014[\"City\"]==\"City of Edinburgh\")|\n",
    "                                                         (cities_business_data_2014[\"City\"]==\"            Lambeth\")]\n",
    "# cities_business_data_2014"
   ]
  },
  {
   "cell_type": "code",
   "execution_count": 21,
   "metadata": {},
   "outputs": [],
   "source": [
    "# opening excel file and locating only the cities identified by the group for strong leave and strong for votes for 2013\n",
    "file = \"../Resources/businessdemographyexceltablesthru2016_cities.xlsx\"\n",
    "cities_business_data_2013 = pd.read_excel(file,sheet_name=\"Table 5.1b\")\n",
    "cities_business_data_2013 = cities_business_data_2013.rename(columns={\"Unnamed: 0\":\"City\",\"Unnamed: 1\":\"Births\"})\n",
    "cities_business_data_2013 = cities_business_data_2013.iloc[:,0:2]\n",
    "cities_business_data_2013.dropna(how='any')\n",
    "cities_business_data_2013 = cities_business_data_2013.loc[(cities_business_data_2013[\"City\"]==\"            Boston\")|\n",
    "                                                          (cities_business_data_2013[\"City\"]==\"        North East Lincolnshire UA\")|\n",
    "                                                          (cities_business_data_2013[\"City\"]==\"            Castle Point\")|\n",
    "                                                         (cities_business_data_2013[\"City\"]==\"            Havering\")|\n",
    "                                                         (cities_business_data_2013[\"City\"]==\"            Cambridge\")|\n",
    "                                                         (cities_business_data_2013[\"City\"]==\"            Oxford\")|\n",
    "                                                         (cities_business_data_2013[\"City\"]==\"City of Edinburgh\")|\n",
    "                                                         (cities_business_data_2013[\"City\"]==\"            Lambeth\")]\n",
    "# cities_business_data_2013"
   ]
  },
  {
   "cell_type": "code",
   "execution_count": 22,
   "metadata": {},
   "outputs": [],
   "source": [
    "# opening excel file and locating only the cities identified by the group for strong leave and strong for votes for 2012\n",
    "file = \"../Resources/businessdemographyexceltablesthru2016_cities.xlsx\"\n",
    "cities_business_data_2012 = pd.read_excel(file,sheet_name=\"Table 5.1a\")\n",
    "cities_business_data_2012 = cities_business_data_2012.rename(columns={\"Unnamed: 0\":\"City\",\"Unnamed: 1\":\"Births\"})\n",
    "cities_business_data_2012 = cities_business_data_2012.iloc[:,0:2]\n",
    "cities_business_data_2012.dropna(how='any')\n",
    "cities_business_data_2012 = cities_business_data_2012.loc[(cities_business_data_2012[\"City\"]==\"            Boston\")|\n",
    "                                                          (cities_business_data_2012[\"City\"]==\"        North East Lincolnshire UA\")|\n",
    "                                                          (cities_business_data_2012[\"City\"]==\"            Castle Point\")|\n",
    "                                                         (cities_business_data_2012[\"City\"]==\"            Havering\")|\n",
    "                                                         (cities_business_data_2012[\"City\"]==\"            Cambridge\")|\n",
    "                                                         (cities_business_data_2012[\"City\"]==\"            Oxford\")|\n",
    "                                                         (cities_business_data_2012[\"City\"]==\"City of Edinburgh\")|\n",
    "                                                         (cities_business_data_2012[\"City\"]==\"            Lambeth\")]\n",
    "# cities_business_data_2012"
   ]
  },
  {
   "cell_type": "code",
   "execution_count": 23,
   "metadata": {},
   "outputs": [],
   "source": [
    "# opening excel file and locating only the cities identified by the group for strong leave and strong for votes for 2011\n",
    "file = \"../Resources/businessdemographyexceltablesthru2013_cities.xlsx\"\n",
    "cities_business_data_2011 = pd.read_excel(file,sheet_name=\"Table 5.1c\")\n",
    "cities_business_data_2011 = cities_business_data_2011.rename(columns={\"Unnamed: 0\":\"City\",\"Unnamed: 1\":\"Births\"})\n",
    "cities_business_data_2011 = cities_business_data_2011.iloc[:,0:2]\n",
    "cities_business_data_2011.dropna(how='any')\n",
    "cities_business_data_2011 = cities_business_data_2011.loc[(cities_business_data_2011[\"City\"]==\"            Boston\")|\n",
    "                                                          (cities_business_data_2011[\"City\"]==\"        North East Lincolnshire UA\")|\n",
    "                                                          (cities_business_data_2011[\"City\"]==\"            Castle Point\")|\n",
    "                                                         (cities_business_data_2011[\"City\"]==\"            Havering\")|\n",
    "                                                         (cities_business_data_2011[\"City\"]==\"            Cambridge\")|\n",
    "                                                         (cities_business_data_2011[\"City\"]==\"            Oxford\")|\n",
    "                                                         (cities_business_data_2011[\"City\"]==\"City of Edinburgh\")|\n",
    "                                                         (cities_business_data_2011[\"City\"]==\"            Lambeth\")]\n",
    "# cities_business_data_2011"
   ]
  },
  {
   "cell_type": "code",
   "execution_count": 24,
   "metadata": {},
   "outputs": [],
   "source": [
    "# opening excel file and locating only the cities identified by the group for strong leave and strong for votes for 2010\n",
    "file = \"../Resources/businessdemographyexceltablesthru2013_cities.xlsx\"\n",
    "cities_business_data_2010 = pd.read_excel(file,sheet_name=\"Table 5.1b\")\n",
    "cities_business_data_2010 = cities_business_data_2010.rename(columns={\"Unnamed: 0\":\"City\",\"Unnamed: 1\":\"Births\"})\n",
    "cities_business_data_2010 = cities_business_data_2010.iloc[:,0:2]\n",
    "cities_business_data_2010.dropna(how='any')\n",
    "cities_business_data_2010 = cities_business_data_2010.loc[(cities_business_data_2010[\"City\"]==\"            Boston\")|\n",
    "                                                          (cities_business_data_2010[\"City\"]==\"        North East Lincolnshire UA\")|\n",
    "                                                          (cities_business_data_2010[\"City\"]==\"            Castle Point\")|\n",
    "                                                         (cities_business_data_2010[\"City\"]==\"            Havering\")|\n",
    "                                                         (cities_business_data_2010[\"City\"]==\"            Cambridge\")|\n",
    "                                                         (cities_business_data_2010[\"City\"]==\"            Oxford\")|\n",
    "                                                         (cities_business_data_2010[\"City\"]==\"City of Edinburgh\")|\n",
    "                                                         (cities_business_data_2010[\"City\"]==\"            Lambeth\")]\n",
    "# cities_business_data_2010"
   ]
  },
  {
   "cell_type": "code",
   "execution_count": 25,
   "metadata": {},
   "outputs": [],
   "source": [
    "# opening excel file and locating only the cities identified by the group for strong leave and strong for votes for 2009\n",
    "file = \"../Resources/businessdemographyexceltablesthru2013_cities.xlsx\"\n",
    "cities_business_data_2009 = pd.read_excel(file,sheet_name=\"Table 5.1a\")\n",
    "cities_business_data_2009 = cities_business_data_2009.rename(columns={\"Unnamed: 0\":\"City\",\"Unnamed: 1\":\"Births\"})\n",
    "cities_business_data_2009 = cities_business_data_2009.iloc[:,0:2]\n",
    "cities_business_data_2009.dropna(how='any')\n",
    "cities_business_data_2009 = cities_business_data_2009.loc[(cities_business_data_2009[\"City\"]==\"            Boston\")|\n",
    "                                                          (cities_business_data_2009[\"City\"]==\"        North East Lincolnshire UA\")|\n",
    "                                                          (cities_business_data_2009[\"City\"]==\"            Castle Point\")|\n",
    "                                                         (cities_business_data_2009[\"City\"]==\"            Havering\")|\n",
    "                                                         (cities_business_data_2009[\"City\"]==\"            Cambridge\")|\n",
    "                                                         (cities_business_data_2009[\"City\"]==\"            Oxford\")|\n",
    "                                                         (cities_business_data_2009[\"City\"]==\"City of Edinburgh\")|\n",
    "                                                         (cities_business_data_2009[\"City\"]==\"            Lambeth\")]\n",
    "# cities_business_data_2009"
   ]
  },
  {
   "cell_type": "code",
   "execution_count": 26,
   "metadata": {},
   "outputs": [],
   "source": [
    "# opening excel file and locating only the cities identified by the group for strong leave and strong for votes for 2008\n",
    "file = \"../Resources/businessdemographyexceltablesthru2012_cities.xlsx\"\n",
    "cities_business_data_2008 = pd.read_excel(file,sheet_name=\"Table 5.1a\")\n",
    "cities_business_data_2008 = cities_business_data_2008.rename(columns={\"Unnamed: 0\":\"City\",\"Unnamed: 1\":\"Births\"})\n",
    "cities_business_data_2008 = cities_business_data_2008.iloc[:,0:2]\n",
    "cities_business_data_2008.dropna(how='any')\n",
    "cities_business_data_2008 = cities_business_data_2008.loc[(cities_business_data_2008[\"City\"]==\"            Boston\")|\n",
    "                                                          (cities_business_data_2008[\"City\"]==\"        North East Lincolnshire UA\")|\n",
    "                                                          (cities_business_data_2008[\"City\"]==\"            Castle Point\")|\n",
    "                                                         (cities_business_data_2008[\"City\"]==\"            Havering\")|\n",
    "                                                         (cities_business_data_2008[\"City\"]==\"            Cambridge\")|\n",
    "                                                         (cities_business_data_2008[\"City\"]==\"            Oxford\")|\n",
    "                                                         (cities_business_data_2008[\"City\"]==\"City of Edinburgh\")|\n",
    "                                                         (cities_business_data_2008[\"City\"]==\"            Lambeth\")]\n",
    "# cities_business_data_2008"
   ]
  },
  {
   "cell_type": "code",
   "execution_count": 27,
   "metadata": {},
   "outputs": [],
   "source": [
    "# opening excel file and locating only the cities identified by the group for strong leave and strong for votes for 2007\n",
    "file = \"../Resources/businessdemographythru2009_cities.xlsx\"\n",
    "cities_business_data_2007 = pd.read_excel(file,sheet_name=\"Table 5.1c\")\n",
    "cities_business_data_2007 = cities_business_data_2007.rename(columns={\"Unnamed: 0\":\"City\",\"Unnamed: 1\":\"Births\"})\n",
    "cities_business_data_2007 = cities_business_data_2007.iloc[:,0:2]\n",
    "cities_business_data_2007.dropna(how='any')\n",
    "cities_business_data_2007 = cities_business_data_2007.loc[(cities_business_data_2007[\"City\"]==\"            Boston\")|\n",
    "                                                          (cities_business_data_2007[\"City\"]==\"        North East Lincolnshire UA\")|\n",
    "                                                          (cities_business_data_2007[\"City\"]==\"            Castle Point\")|\n",
    "                                                         (cities_business_data_2007[\"City\"]==\"            Havering\")|\n",
    "                                                         (cities_business_data_2007[\"City\"]==\"            Cambridge\")|\n",
    "                                                         (cities_business_data_2007[\"City\"]==\"            Oxford\")|\n",
    "                                                         (cities_business_data_2007[\"City\"]==\"City of Edinburgh\")|\n",
    "                                                         (cities_business_data_2007[\"City\"]==\"            Lambeth\")]\n",
    "# cities_business_data_2007"
   ]
  },
  {
   "cell_type": "code",
   "execution_count": 28,
   "metadata": {},
   "outputs": [],
   "source": [
    "# opening excel file and locating only the cities identified by the group for strong leave and strong for votes for 2006\n",
    "file = \"../Resources/businessdemographythru2009_cities.xlsx\"\n",
    "cities_business_data_2006 = pd.read_excel(file,sheet_name=\"Table 5.1b\")\n",
    "cities_business_data_2006 = cities_business_data_2006.rename(columns={\"Unnamed: 0\":\"City\",\"Unnamed: 1\":\"Births\"})\n",
    "cities_business_data_2006 = cities_business_data_2006.iloc[:,0:2]\n",
    "cities_business_data_2006.dropna(how='any')\n",
    "cities_business_data_2006 = cities_business_data_2006.loc[(cities_business_data_2006[\"City\"]==\"            Boston\")|\n",
    "                                                          (cities_business_data_2006[\"City\"]==\"        North East Lincolnshire UA\")|\n",
    "                                                          (cities_business_data_2006[\"City\"]==\"            Castle Point\")|\n",
    "                                                         (cities_business_data_2006[\"City\"]==\"            Havering\")|\n",
    "                                                         (cities_business_data_2006[\"City\"]==\"            Cambridge\")|\n",
    "                                                         (cities_business_data_2006[\"City\"]==\"            Oxford\")|\n",
    "                                                         (cities_business_data_2006[\"City\"]==\"City of Edinburgh\")|\n",
    "                                                         (cities_business_data_2006[\"City\"]==\"            Lambeth\")]\n",
    "# cities_business_data_2006"
   ]
  },
  {
   "cell_type": "code",
   "execution_count": 29,
   "metadata": {},
   "outputs": [],
   "source": [
    "# opening excel file and locating only the cities identified by the group for strong leave and strong for votes for 2005\n",
    "file = \"../Resources/businessdemographythru2009_cities.xlsx\"\n",
    "cities_business_data_2005 = pd.read_excel(file,sheet_name=\"Table 5.1a\")\n",
    "cities_business_data_2005 = cities_business_data_2005.rename(columns={\"Unnamed: 0\":\"City\",\"Unnamed: 1\":\"Births\"})\n",
    "cities_business_data_2005 = cities_business_data_2005.iloc[:,0:2]\n",
    "cities_business_data_2005.dropna(how='any')\n",
    "cities_business_data_2005 = cities_business_data_2005.loc[(cities_business_data_2005[\"City\"]==\"            Boston\")|\n",
    "                                                          (cities_business_data_2005[\"City\"]==\"        North East Lincolnshire UA\")|\n",
    "                                                          (cities_business_data_2005[\"City\"]==\"            Castle Point\")|\n",
    "                                                         (cities_business_data_2005[\"City\"]==\"            Havering\")|\n",
    "                                                         (cities_business_data_2005[\"City\"]==\"            Cambridge\")|\n",
    "                                                         (cities_business_data_2005[\"City\"]==\"            Oxford\")|\n",
    "                                                         (cities_business_data_2005[\"City\"]==\"City of Edinburgh\")|\n",
    "                                                         (cities_business_data_2005[\"City\"]==\"            Lambeth\")]\n",
    "# cities_business_data_2005"
   ]
  },
  {
   "cell_type": "code",
   "execution_count": 30,
   "metadata": {},
   "outputs": [],
   "source": [
    "# opening excel file and locating only the cities identified by the group for strong leave and strong for votes for 2004\n",
    "file = \"../Resources/businessdemography2004-2008_cities.xlsx\"\n",
    "cities_business_data_2004 = pd.read_excel(file,sheet_name=\"Table 5.1a\")\n",
    "cities_business_data_2004 = cities_business_data_2004.rename(columns={\"Unnamed: 0\":\"City\",\"Unnamed: 1\":\"Births\"})\n",
    "cities_business_data_2004 = cities_business_data_2004.iloc[:,0:2]\n",
    "cities_business_data_2004.dropna(how='any')\n",
    "cities_business_data_2004 = cities_business_data_2004.loc[(cities_business_data_2004[\"City\"]==\"            Boston\")|\n",
    "                                                          (cities_business_data_2004[\"City\"]==\"        North East Lincolnshire UA\")|\n",
    "                                                          (cities_business_data_2004[\"City\"]==\"            Castle Point\")|\n",
    "                                                         (cities_business_data_2004[\"City\"]==\"            Havering\")|\n",
    "                                                         (cities_business_data_2004[\"City\"]==\"            Cambridge\")|\n",
    "                                                         (cities_business_data_2004[\"City\"]==\"            Oxford\")|\n",
    "                                                         (cities_business_data_2004[\"City\"]==\"City of Edinburgh\")|\n",
    "                                                         (cities_business_data_2004[\"City\"]==\"            Lambeth\")]\n",
    "# cities_business_data_2004"
   ]
  },
  {
   "cell_type": "code",
   "execution_count": 31,
   "metadata": {},
   "outputs": [
    {
     "data": {
      "text/html": [
       "<div>\n",
       "<style scoped>\n",
       "    .dataframe tbody tr th:only-of-type {\n",
       "        vertical-align: middle;\n",
       "    }\n",
       "\n",
       "    .dataframe tbody tr th {\n",
       "        vertical-align: top;\n",
       "    }\n",
       "\n",
       "    .dataframe thead th {\n",
       "        text-align: right;\n",
       "    }\n",
       "</style>\n",
       "<table border=\"1\" class=\"dataframe\">\n",
       "  <thead>\n",
       "    <tr style=\"text-align: right;\">\n",
       "      <th></th>\n",
       "      <th>City</th>\n",
       "      <th>2004</th>\n",
       "      <th>2005</th>\n",
       "      <th>2006</th>\n",
       "      <th>2007</th>\n",
       "      <th>2008</th>\n",
       "      <th>2009</th>\n",
       "      <th>2010</th>\n",
       "      <th>2011</th>\n",
       "      <th>2012</th>\n",
       "      <th>2013</th>\n",
       "      <th>2014</th>\n",
       "      <th>2015</th>\n",
       "      <th>2016</th>\n",
       "    </tr>\n",
       "  </thead>\n",
       "  <tbody>\n",
       "    <tr>\n",
       "      <th>0</th>\n",
       "      <td>North East Lincolnshire UA</td>\n",
       "      <td>665.0</td>\n",
       "      <td>570.0</td>\n",
       "      <td>565.0</td>\n",
       "      <td>730.0</td>\n",
       "      <td>1110.0</td>\n",
       "      <td>915.0</td>\n",
       "      <td>760.0</td>\n",
       "      <td>720.0</td>\n",
       "      <td>435.0</td>\n",
       "      <td>655.0</td>\n",
       "      <td>685.0</td>\n",
       "      <td>665.0</td>\n",
       "      <td>660.0</td>\n",
       "    </tr>\n",
       "    <tr>\n",
       "      <th>1</th>\n",
       "      <td>Boston</td>\n",
       "      <td>270.0</td>\n",
       "      <td>225.0</td>\n",
       "      <td>210.0</td>\n",
       "      <td>215.0</td>\n",
       "      <td>195.0</td>\n",
       "      <td>160.0</td>\n",
       "      <td>160.0</td>\n",
       "      <td>165.0</td>\n",
       "      <td>195.0</td>\n",
       "      <td>250.0</td>\n",
       "      <td>235.0</td>\n",
       "      <td>270.0</td>\n",
       "      <td>285.0</td>\n",
       "    </tr>\n",
       "    <tr>\n",
       "      <th>2</th>\n",
       "      <td>Cambridge</td>\n",
       "      <td>560.0</td>\n",
       "      <td>555.0</td>\n",
       "      <td>465.0</td>\n",
       "      <td>555.0</td>\n",
       "      <td>460.0</td>\n",
       "      <td>445.0</td>\n",
       "      <td>450.0</td>\n",
       "      <td>525.0</td>\n",
       "      <td>540.0</td>\n",
       "      <td>660.0</td>\n",
       "      <td>670.0</td>\n",
       "      <td>705.0</td>\n",
       "      <td>730.0</td>\n",
       "    </tr>\n",
       "    <tr>\n",
       "      <th>3</th>\n",
       "      <td>Castle Point</td>\n",
       "      <td>355.0</td>\n",
       "      <td>390.0</td>\n",
       "      <td>360.0</td>\n",
       "      <td>370.0</td>\n",
       "      <td>335.0</td>\n",
       "      <td>310.0</td>\n",
       "      <td>320.0</td>\n",
       "      <td>345.0</td>\n",
       "      <td>330.0</td>\n",
       "      <td>430.0</td>\n",
       "      <td>450.0</td>\n",
       "      <td>595.0</td>\n",
       "      <td>530.0</td>\n",
       "    </tr>\n",
       "    <tr>\n",
       "      <th>4</th>\n",
       "      <td>Lambeth</td>\n",
       "      <td>1850.0</td>\n",
       "      <td>1580.0</td>\n",
       "      <td>1520.0</td>\n",
       "      <td>1930.0</td>\n",
       "      <td>1855.0</td>\n",
       "      <td>1445.0</td>\n",
       "      <td>1555.0</td>\n",
       "      <td>1945.0</td>\n",
       "      <td>4255.0</td>\n",
       "      <td>5115.0</td>\n",
       "      <td>5570.0</td>\n",
       "      <td>3425.0</td>\n",
       "      <td>3120.0</td>\n",
       "    </tr>\n",
       "    <tr>\n",
       "      <th>5</th>\n",
       "      <td>Havering</td>\n",
       "      <td>1055.0</td>\n",
       "      <td>895.0</td>\n",
       "      <td>885.0</td>\n",
       "      <td>990.0</td>\n",
       "      <td>1085.0</td>\n",
       "      <td>955.0</td>\n",
       "      <td>890.0</td>\n",
       "      <td>1005.0</td>\n",
       "      <td>1085.0</td>\n",
       "      <td>1460.0</td>\n",
       "      <td>1485.0</td>\n",
       "      <td>1720.0</td>\n",
       "      <td>1845.0</td>\n",
       "    </tr>\n",
       "    <tr>\n",
       "      <th>6</th>\n",
       "      <td>Oxford</td>\n",
       "      <td>485.0</td>\n",
       "      <td>475.0</td>\n",
       "      <td>430.0</td>\n",
       "      <td>410.0</td>\n",
       "      <td>515.0</td>\n",
       "      <td>470.0</td>\n",
       "      <td>430.0</td>\n",
       "      <td>525.0</td>\n",
       "      <td>505.0</td>\n",
       "      <td>645.0</td>\n",
       "      <td>660.0</td>\n",
       "      <td>685.0</td>\n",
       "      <td>710.0</td>\n",
       "    </tr>\n",
       "    <tr>\n",
       "      <th>7</th>\n",
       "      <td>City of Edinburgh</td>\n",
       "      <td>1710.0</td>\n",
       "      <td>1855.0</td>\n",
       "      <td>1740.0</td>\n",
       "      <td>1990.0</td>\n",
       "      <td>1845.0</td>\n",
       "      <td>1745.0</td>\n",
       "      <td>2070.0</td>\n",
       "      <td>2150.0</td>\n",
       "      <td>2145.0</td>\n",
       "      <td>2730.0</td>\n",
       "      <td>2765.0</td>\n",
       "      <td>3060.0</td>\n",
       "      <td>2915.0</td>\n",
       "    </tr>\n",
       "  </tbody>\n",
       "</table>\n",
       "</div>"
      ],
      "text/plain": [
       "                                 City    2004    2005    2006    2007    2008  \\\n",
       "0          North East Lincolnshire UA   665.0   570.0   565.0   730.0  1110.0   \n",
       "1                              Boston   270.0   225.0   210.0   215.0   195.0   \n",
       "2                           Cambridge   560.0   555.0   465.0   555.0   460.0   \n",
       "3                        Castle Point   355.0   390.0   360.0   370.0   335.0   \n",
       "4                             Lambeth  1850.0  1580.0  1520.0  1930.0  1855.0   \n",
       "5                            Havering  1055.0   895.0   885.0   990.0  1085.0   \n",
       "6                              Oxford   485.0   475.0   430.0   410.0   515.0   \n",
       "7                   City of Edinburgh  1710.0  1855.0  1740.0  1990.0  1845.0   \n",
       "\n",
       "     2009    2010    2011    2012    2013    2014    2015    2016  \n",
       "0   915.0   760.0   720.0   435.0   655.0   685.0   665.0   660.0  \n",
       "1   160.0   160.0   165.0   195.0   250.0   235.0   270.0   285.0  \n",
       "2   445.0   450.0   525.0   540.0   660.0   670.0   705.0   730.0  \n",
       "3   310.0   320.0   345.0   330.0   430.0   450.0   595.0   530.0  \n",
       "4  1445.0  1555.0  1945.0  4255.0  5115.0  5570.0  3425.0  3120.0  \n",
       "5   955.0   890.0  1005.0  1085.0  1460.0  1485.0  1720.0  1845.0  \n",
       "6   470.0   430.0   525.0   505.0   645.0   660.0   685.0   710.0  \n",
       "7  1745.0  2070.0  2150.0  2145.0  2730.0  2765.0  3060.0  2915.0  "
      ]
     },
     "execution_count": 31,
     "metadata": {},
     "output_type": "execute_result"
    }
   ],
   "source": [
    "#joined 2004 & 2005 data on city\n",
    "z_business_data = pd.merge(cities_business_data_2004,cities_business_data_2005,on=\"City\",how=\"outer\")\n",
    "z_business_data = z_business_data.rename(columns={\"Births_x\":\"2004\",\"Births_y\":\"2005\"})\n",
    "zy_business_data = pd.merge(z_business_data,cities_business_data_2006,on=\"City\",how=\"outer\")\n",
    "zy_business_data = zy_business_data.rename(columns={\"Births\":\"2006\"})\n",
    "zyx_business_data = pd.merge(zy_business_data,cities_business_data_2007,on=\"City\",how=\"outer\")\n",
    "zyx_business_data = zyx_business_data.rename(columns={\"Births\":\"2007\"})\n",
    "zyxw_business_data = pd.merge(zyx_business_data,cities_business_data_2008,on=\"City\",how=\"outer\")\n",
    "zyxw_business_data = zyxw_business_data.rename(columns={\"Births\":\"2008\"})\n",
    "zyxwv_business_data = pd.merge(zyxw_business_data,cities_business_data_2009,on=\"City\",how=\"outer\")\n",
    "zyxwv_business_data = zyxwv_business_data.rename(columns={\"Births\":\"2009\"})\n",
    "zyxwvt_business_data = pd.merge(zyxwv_business_data,cities_business_data_2010,on=\"City\",how=\"outer\")\n",
    "zyxwvt_business_data = zyxwvt_business_data.rename(columns={\"Births\":\"2010\"})\n",
    "zyxwvtu_business_data = pd.merge(zyxwvt_business_data,cities_business_data_2011,on=\"City\",how=\"outer\")\n",
    "zyxwvtu_business_data = zyxwvtu_business_data.rename(columns={\"Births\":\"2011\"})\n",
    "zyxwvtus_business_data = pd.merge(zyxwvtu_business_data,cities_business_data_2012,on=\"City\",how=\"outer\")\n",
    "zyxwvtus_business_data = zyxwvtus_business_data.rename(columns={\"Births\":\"2012\"})\n",
    "zyxwvtusr_business_data = pd.merge(zyxwvtus_business_data,cities_business_data_2013,on=\"City\",how=\"outer\")\n",
    "zyxwvtusr_business_data = zyxwvtusr_business_data.rename(columns={\"Births\":\"2013\"})\n",
    "zyxwvtusrp_business_data = pd.merge(zyxwvtusr_business_data,cities_business_data_2014,on=\"City\",how=\"outer\")\n",
    "zyxwvtusrp_business_data = zyxwvtusrp_business_data.rename(columns={\"Births\":\"2014\"})\n",
    "zyxwvtusrpo_business_data = pd.merge(zyxwvtusrp_business_data,cities_business_data_2015,on=\"City\",how=\"outer\")\n",
    "zyxwvtusrpo_business_data = zyxwvtusrpo_business_data.rename(columns={\"Births\":\"2015\"})\n",
    "all_cities_business_data = pd.merge(zyxwvtusrpo_business_data,cities_business_data_2016,on=\"City\",how=\"outer\")\n",
    "all_cities_business_data = all_cities_business_data.rename(columns={\"Births\":\"2016\"})\n",
    "all_cities_business_data"
   ]
  },
  {
   "cell_type": "code",
   "execution_count": 136,
   "metadata": {},
   "outputs": [],
   "source": [
    "# created dataframe for north east lincolnshire\n",
    "north_east_lincolnshire_business_births = pd.DataFrame({\"Years\":all_cities_business_data.iloc[0]})\n",
    "north_east_lincolnshire_business_births.reset_index(level=0, inplace=True)\n",
    "north_east_lincolnshire_business_births = north_east_lincolnshire_business_births.drop([0])\n",
    "# north_east_lincolnshire_business_births"
   ]
  },
  {
   "cell_type": "code",
   "execution_count": 135,
   "metadata": {},
   "outputs": [],
   "source": [
    "# created dataframe for boston\n",
    "boston_business_births = pd.DataFrame({\"Years\":all_cities_business_data.iloc[1]})\n",
    "boston_business_births.reset_index(level=0, inplace=True)\n",
    "boston_business_births = boston_business_births.drop([0])\n",
    "# boston_business_births"
   ]
  },
  {
   "cell_type": "code",
   "execution_count": 134,
   "metadata": {},
   "outputs": [],
   "source": [
    "# created dataframe for castle point\n",
    "castle_point_business_births = pd.DataFrame({\"Years\":all_cities_business_data.iloc[3]})\n",
    "castle_point_business_births.reset_index(level=0, inplace=True)\n",
    "castle_point_business_births = castle_point_business_births.drop([0])\n",
    "# castle_point_business_births"
   ]
  },
  {
   "cell_type": "code",
   "execution_count": 133,
   "metadata": {},
   "outputs": [],
   "source": [
    "# created dataframe for havering\n",
    "havering_business_births = pd.DataFrame({\"Years\":all_cities_business_data.iloc[5]})\n",
    "havering_business_births.reset_index(level=0, inplace=True)\n",
    "havering_business_births = havering_business_births.drop([0])\n",
    "# havering_business_births"
   ]
  },
  {
   "cell_type": "code",
   "execution_count": 138,
   "metadata": {},
   "outputs": [],
   "source": [
    "# created dataframe for cambridge\n",
    "cambridge_business_births = pd.DataFrame({\"Years\":all_cities_business_data.iloc[2]})\n",
    "cambridge_business_births.reset_index(level=0, inplace=True)\n",
    "cambridge_business_births = cambridge_business_births.drop([0])\n",
    "# cambridge_business_births"
   ]
  },
  {
   "cell_type": "code",
   "execution_count": 140,
   "metadata": {},
   "outputs": [],
   "source": [
    "# created dataframe for oxford\n",
    "oxford_business_births = pd.DataFrame({\"Years\":all_cities_business_data.iloc[6]})\n",
    "oxford_business_births.reset_index(level=0, inplace=True)\n",
    "oxford_business_births = oxford_business_births.drop([0])\n",
    "# oxford_business_births"
   ]
  },
  {
   "cell_type": "code",
   "execution_count": 142,
   "metadata": {},
   "outputs": [],
   "source": [
    "# created dataframe for lambeth\n",
    "lambeth_business_births = pd.DataFrame({\"Years\":all_cities_business_data.iloc[4]})\n",
    "lambeth_business_births.reset_index(level=0, inplace=True)\n",
    "lambeth_business_births = lambeth_business_births.drop([0])\n",
    "# lambeth_business_births"
   ]
  },
  {
   "cell_type": "code",
   "execution_count": 144,
   "metadata": {},
   "outputs": [],
   "source": [
    "# created dataframe for edinburgh\n",
    "edinburgh_business_births = pd.DataFrame({\"Years\":all_cities_business_data.iloc[7]})\n",
    "edinburgh_business_births.reset_index(level=0, inplace=True)\n",
    "edinburgh_business_births = edinburgh_business_births.drop([0])\n",
    "# edinburgh_business_births"
   ]
  },
  {
   "cell_type": "code",
   "execution_count": 146,
   "metadata": {},
   "outputs": [
    {
     "data": {
      "text/plain": [
       "<matplotlib.legend.Legend at 0x1e9b828c470>"
      ]
     },
     "execution_count": 146,
     "metadata": {},
     "output_type": "execute_result"
    },
    {
     "data": {
      "image/png": "[encoded data removed]",
      "text/plain": [
       "<Figure size 432x288 with 1 Axes>"
      ]
     },
     "metadata": {
      "needs_background": "light"
     },
     "output_type": "display_data"
    }
   ],
   "source": [
    "#plotted business births for each city based on their voting for brexit - these are strong leave\n",
    "plt.plot(north_east_lincolnshire_business_births[\"index\"],north_east_lincolnshire_business_births[\"Years\"],marker=\"o\",label = \"North East Lincolnshire\")\n",
    "plt.plot(boston_business_births[\"index\"],boston_business_births[\"Years\"],marker=\"o\",label = \"Boston\")\n",
    "plt.plot(castle_point_business_births[\"index\"],castle_point_business_births[\"Years\"],marker=\"o\",label = \"Castle Point\")\n",
    "plt.plot(havering_business_births[\"index\"],havering_business_births[\"Years\"],marker=\"o\",label = \"Havering\")\n",
    "plt.title(\"Business Births for Cities who Voted as 'Strong Leave' in Brexit\")\n",
    "plt.xlabel(\"Years\")\n",
    "plt.ylabel(\"Business Births\")\n",
    "plt.xticks(rotation=45)\n",
    "plt.legend(loc=\"best\")"
   ]
  },
  {
   "cell_type": "code",
   "execution_count": 148,
   "metadata": {},
   "outputs": [
    {
     "data": {
      "text/plain": [
       "<matplotlib.legend.Legend at 0x1e9b9d476d8>"
      ]
     },
     "execution_count": 148,
     "metadata": {},
     "output_type": "execute_result"
    },
    {
     "data": {
      "image/png": "[encoded data removed]",
      "text/plain": [
       "<Figure size 432x288 with 1 Axes>"
      ]
     },
     "metadata": {
      "needs_background": "light"
     },
     "output_type": "display_data"
    }
   ],
   "source": [
    "#plotted business births for each city based on their voting for brexit - these are strong stay\n",
    "plt.plot(cambridge_business_births[\"index\"],cambridge_business_births[\"Years\"],marker=\"o\",label = \"Cambridge\")\n",
    "plt.plot(oxford_business_births[\"index\"],oxford_business_births[\"Years\"],marker=\"o\",label = \"Oxford\")\n",
    "plt.plot(lambeth_business_births[\"index\"],lambeth_business_births[\"Years\"],marker=\"o\",label = \"Lambeth\")\n",
    "plt.plot(edinburgh_business_births[\"index\"],edinburgh_business_births[\"Years\"],marker=\"o\",label = \"Edinburgh\")\n",
    "plt.title(\"Business Births for Cities who Voted as 'Strong Stay' in Brexit\")\n",
    "plt.xlabel(\"Years\")\n",
    "plt.ylabel(\"Business Births\")\n",
    "plt.xticks(rotation=45)\n",
    "plt.legend(loc=\"best\")"
   ]
  },
  {
   "cell_type": "code",
   "execution_count": null,
   "metadata": {},
   "outputs": [],
   "source": []
  }
 ],
 "metadata": {
  "kernelspec": {
   "display_name": "Python 3",
   "language": "python",
   "name": "python3"
  },
  "language_info": {
   "codemirror_mode": {
    "name": "ipython",
    "version": 3
   },
   "file_extension": ".py",
   "mimetype": "text/x-python",
   "name": "python",
   "nbconvert_exporter": "python",
   "pygments_lexer": "ipython3",
   "version": "3.7.1"
  }
 },
 "nbformat": 4,
 "nbformat_minor": 2
}
