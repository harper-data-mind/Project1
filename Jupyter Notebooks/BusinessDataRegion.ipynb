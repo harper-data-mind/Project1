{
 "cells": [
  {
   "cell_type": "code",
   "execution_count": 3,
   "metadata": {},
   "outputs": [],
   "source": [
    "#dependencies\n",
    "import csv\n",
    "import pandas as pd\n",
    "import matplotlib.pyplot as plt\n",
    "import numpy as np"
   ]
  },
  {
   "cell_type": "code",
   "execution_count": 31,
   "metadata": {},
   "outputs": [],
   "source": [
    "#opened excel file and renamed columns for easier reading and dropped any columns where no values are present for 2016 business births per region\n",
    "file = \"../Resources/businessdemographyexceltablesthru2016.xlsx\"\n",
    "region_business_data_2016 = pd.read_excel(file,sheet_name=\"Table 5.1e\")\n",
    "region_business_data_2016 = region_business_data_2016.rename(columns={\"Unnamed: 0\":\"Region\",\"Unnamed: 1\":\"Births\"})\n",
    "region_business_data_2016 = region_business_data_2016.iloc[:,0:2]\n",
    "region_business_data_2016 = region_business_data_2016.dropna(how='any')\n",
    "# region_business_data_2016"
   ]
  },
  {
   "cell_type": "code",
   "execution_count": 33,
   "metadata": {},
   "outputs": [],
   "source": [
    "#opened excel file and renamed columns for easier reading and dropped any columns where no values are present for 2015 business births per region\n",
    "file = \"../Resources/businessdemographyexceltablesthru2016.xlsx\"\n",
    "region_business_data_2015 = pd.read_excel(file,sheet_name=\"Table 5.1d\")\n",
    "region_business_data_2015 = region_business_data_2015.rename(columns={\"Unnamed: 0\":\"Region\",\"Unnamed: 1\":\"Births\"})\n",
    "region_business_data_2015 = region_business_data_2015.iloc[:,0:2]\n",
    "region_business_data_2015 = region_business_data_2015.dropna(how='any')\n",
    "# region_business_data_2015"
   ]
  },
  {
   "cell_type": "code",
   "execution_count": 35,
   "metadata": {},
   "outputs": [],
   "source": [
    "#opened excel file and renamed columns for easier reading and dropped any columns where no values are present for 2014 business births per region\n",
    "file = \"../Resources/businessdemographyexceltablesthru2016.xlsx\"\n",
    "region_business_data_2014 = pd.read_excel(file,sheet_name=\"Table 5.1c\")\n",
    "region_business_data_2014 = region_business_data_2014.rename(columns={\"Unnamed: 0\":\"Region\",\"Unnamed: 1\":\"Births\"})\n",
    "region_business_data_2014 = region_business_data_2014.iloc[:,0:2]\n",
    "region_business_data_2014 = region_business_data_2014.dropna(how='any')\n",
    "# region_business_data_2014"
   ]
  },
  {
   "cell_type": "code",
   "execution_count": 37,
   "metadata": {},
   "outputs": [],
   "source": [
    "#opened excel file and renamed columns for easier reading and dropped any columns where no values are present for 2013 business births per region\n",
    "file = \"../Resources/businessdemographyexceltablesthru2016.xlsx\"\n",
    "region_business_data_2013 = pd.read_excel(file,sheet_name=\"Table 5.1b\")\n",
    "region_business_data_2013 = region_business_data_2013.rename(columns={\"Unnamed: 0\":\"Region\",\"Unnamed: 1\":\"Births\"})\n",
    "region_business_data_2013 = region_business_data_2013.iloc[:,0:2]\n",
    "region_business_data_2013 = region_business_data_2013.dropna(how='any')\n",
    "# region_business_data_2013"
   ]
  },
  {
   "cell_type": "code",
   "execution_count": 39,
   "metadata": {},
   "outputs": [],
   "source": [
    "#opened excel file and renamed columns for easier reading and dropped any columns where no values are present for 2012 business births per region\n",
    "file = \"../Resources/businessdemographyexceltablesthru2016.xlsx\"\n",
    "region_business_data_2012 = pd.read_excel(file,sheet_name=\"Table 5.1a\")\n",
    "region_business_data_2012 = region_business_data_2012.rename(columns={\"Unnamed: 0\":\"Region\",\"Unnamed: 1\":\"Births\"})\n",
    "region_business_data_2012 = region_business_data_2012.iloc[:,0:2]\n",
    "region_business_data_2012 = region_business_data_2012.dropna(how='any')\n",
    "# region_business_data_2012"
   ]
  },
  {
   "cell_type": "code",
   "execution_count": 41,
   "metadata": {},
   "outputs": [],
   "source": [
    "#opened excel file and renamed columns for easier reading and dropped any columns where no values are present for 2011 business births per region\n",
    "mid_file = \"../Resources/businessdemographyexceltablesthru2013.xlsx\"\n",
    "region_mid_business_data_2011 = pd.read_excel(mid_file,sheet_name=\"Table 5.1c\")\n",
    "region_mid_business_data_2011 = region_mid_business_data_2011.rename(columns={\"Unnamed: 0\":\"Region\",\"Unnamed: 1\":\"Births\"})\n",
    "region_mid_business_data_2011 = region_mid_business_data_2011.iloc[:,0:2]\n",
    "# region_mid_business_data_2011"
   ]
  },
  {
   "cell_type": "code",
   "execution_count": 43,
   "metadata": {},
   "outputs": [],
   "source": [
    "#opened excel file and renamed columns for easier reading and dropped any columns where no values are present for 2010 business births per region\n",
    "mid_file = \"../Resources/businessdemographyexceltablesthru2013.xlsx\"\n",
    "region_mid_business_data_2010 = pd.read_excel(mid_file,sheet_name=\"Table 5.1b\")\n",
    "region_mid_business_data_2010 = region_mid_business_data_2010.rename(columns={\"Unnamed: 0\":\"Region\",\"Unnamed: 1\":\"Births\"})\n",
    "region_mid_business_data_2010 = region_mid_business_data_2010.iloc[:,0:2]\n",
    "# region_mid_business_data_2010"
   ]
  },
  {
   "cell_type": "code",
   "execution_count": 45,
   "metadata": {},
   "outputs": [],
   "source": [
    "#opened excel file and renamed columns for easier reading and dropped any columns where no values are present for 2009 business births per region\n",
    "mid_file = \"../Resources/businessdemographyexceltablesthru2013.xlsx\"\n",
    "region_mid_business_data_2009 = pd.read_excel(mid_file,sheet_name=\"Table 5.1a\")\n",
    "region_mid_business_data_2009 = region_mid_business_data_2009.rename(columns={\"Unnamed: 0\":\"Region\",\"Unnamed: 1\":\"Births\"})\n",
    "region_mid_business_data_2009 = region_mid_business_data_2009.iloc[:,0:2]\n",
    "# region_mid_business_data_2009"
   ]
  },
  {
   "cell_type": "code",
   "execution_count": 48,
   "metadata": {},
   "outputs": [],
   "source": [
    "#opened excel file and renamed columns for easier reading and dropped any columns where no values are present for 2008 business births per region\n",
    "mid_early_file = \"../Resources/businessdemographyexceltablesthru2012.xlsx\"\n",
    "region_mid_business_data_2008 = pd.read_excel(mid_early_file,sheet_name=\"Table 5.1a\")\n",
    "region_mid_business_data_2008 = region_mid_business_data_2008.rename(columns={\"Unnamed: 0\":\"Region\",\"Unnamed: 1\":\"Births\"})\n",
    "region_mid_business_data_2008 = region_mid_business_data_2008.iloc[:,0:2]\n",
    "# region_mid_business_data_2008"
   ]
  },
  {
   "cell_type": "code",
   "execution_count": 50,
   "metadata": {},
   "outputs": [],
   "source": [
    "#opened excel file and renamed columns for easier reading and dropped any columns where no values are present for 2007 business births per region\n",
    "early_file = \"../Resources/businessdemographythru2009.xlsx\"\n",
    "region_mid_business_data_2007 = pd.read_excel(early_file,sheet_name=\"Table 5.1c\")\n",
    "region_mid_business_data_2007 = region_mid_business_data_2007.rename(columns={\"Unnamed: 0\":\"Region\",\"Unnamed: 1\":\"Births\"})\n",
    "region_mid_business_data_2007 = region_mid_business_data_2007.iloc[:,0:2]\n",
    "# region_mid_business_data_2007"
   ]
  },
  {
   "cell_type": "code",
   "execution_count": 52,
   "metadata": {},
   "outputs": [],
   "source": [
    "#opened excel file and renamed columns for easier reading and dropped any columns where no values are present for 2006 business births per region\n",
    "early_file = \"../Resources/businessdemographythru2009.xlsx\"\n",
    "region_mid_business_data_2006 = pd.read_excel(early_file,sheet_name=\"Table 5.1b\")\n",
    "region_mid_business_data_2006 = region_mid_business_data_2006.rename(columns={\"Unnamed: 0\":\"Region\",\"Unnamed: 1\":\"Births\"})\n",
    "region_mid_business_data_2006 = region_mid_business_data_2006.iloc[:,0:2]\n",
    "# region_mid_business_data_2006"
   ]
  },
  {
   "cell_type": "code",
   "execution_count": 54,
   "metadata": {},
   "outputs": [],
   "source": [
    "#opened excel file and renamed columns for easier reading and dropped any columns where no values are present for 2005 business births per region\n",
    "early_file = \"../Resources/businessdemographythru2009.xlsx\"\n",
    "region_mid_business_data_2005 = pd.read_excel(early_file,sheet_name=\"Table 5.1a\")\n",
    "region_mid_business_data_2005 = region_mid_business_data_2005.rename(columns={\"Unnamed: 0\":\"Region\",\"Unnamed: 1\":\"Births\"})\n",
    "region_mid_business_data_2005 = region_mid_business_data_2005.iloc[:,0:2]\n",
    "# region_mid_business_data_2005"
   ]
  },
  {
   "cell_type": "code",
   "execution_count": 56,
   "metadata": {},
   "outputs": [],
   "source": [
    "#opened excel file and renamed columns for easier reading and dropped any columns where no values are present for 2004 business births per region\n",
    "earliest_file = \"../Resources/businessdemography2004-2008.xlsx\"\n",
    "region_mid_business_data_2004 = pd.read_excel(earliest_file,sheet_name=\"Table 5.1a\")\n",
    "region_mid_business_data_2004 = region_mid_business_data_2004.rename(columns={\"Unnamed: 0\":\"Region\",\"Unnamed: 1\":\"Births\"})\n",
    "region_mid_business_data_2004 = region_mid_business_data_2004.iloc[:,0:2]\n",
    "# region_mid_business_data_2004"
   ]
  },
  {
   "cell_type": "code",
   "execution_count": 60,
   "metadata": {},
   "outputs": [
    {
     "data": {
      "text/html": [
       "<div>\n",
       "<style scoped>\n",
       "    .dataframe tbody tr th:only-of-type {\n",
       "        vertical-align: middle;\n",
       "    }\n",
       "\n",
       "    .dataframe tbody tr th {\n",
       "        vertical-align: top;\n",
       "    }\n",
       "\n",
       "    .dataframe thead th {\n",
       "        text-align: right;\n",
       "    }\n",
       "</style>\n",
       "<table border=\"1\" class=\"dataframe\">\n",
       "  <thead>\n",
       "    <tr style=\"text-align: right;\">\n",
       "      <th></th>\n",
       "      <th>Region</th>\n",
       "      <th>2004</th>\n",
       "      <th>2005</th>\n",
       "      <th>2006</th>\n",
       "      <th>2007</th>\n",
       "      <th>2008</th>\n",
       "      <th>2009</th>\n",
       "      <th>2010</th>\n",
       "      <th>2011</th>\n",
       "      <th>2012</th>\n",
       "      <th>2013</th>\n",
       "      <th>2014</th>\n",
       "      <th>2015</th>\n",
       "      <th>2016</th>\n",
       "    </tr>\n",
       "  </thead>\n",
       "  <tbody>\n",
       "    <tr>\n",
       "      <th>0</th>\n",
       "      <td>UNITED KINGDOM</td>\n",
       "      <td>280080</td>\n",
       "      <td>274855</td>\n",
       "      <td>255530</td>\n",
       "      <td>280730</td>\n",
       "      <td>267445</td>\n",
       "      <td>236030</td>\n",
       "      <td>235145</td>\n",
       "      <td>261370</td>\n",
       "      <td>269250</td>\n",
       "      <td>346275</td>\n",
       "      <td>350305</td>\n",
       "      <td>382755</td>\n",
       "      <td>413900</td>\n",
       "    </tr>\n",
       "    <tr>\n",
       "      <th>1</th>\n",
       "      <td>GREAT BRITAIN</td>\n",
       "      <td>274350</td>\n",
       "      <td>269220</td>\n",
       "      <td>249950</td>\n",
       "      <td>274770</td>\n",
       "      <td>261790</td>\n",
       "      <td>232085</td>\n",
       "      <td>230555</td>\n",
       "      <td>257625</td>\n",
       "      <td>265315</td>\n",
       "      <td>341420</td>\n",
       "      <td>345500</td>\n",
       "      <td>377315</td>\n",
       "      <td>407965</td>\n",
       "    </tr>\n",
       "    <tr>\n",
       "      <th>2</th>\n",
       "      <td>ENGLAND AND WALES</td>\n",
       "      <td>259975</td>\n",
       "      <td>252285</td>\n",
       "      <td>234880</td>\n",
       "      <td>256605</td>\n",
       "      <td>245565</td>\n",
       "      <td>217360</td>\n",
       "      <td>215025</td>\n",
       "      <td>240685</td>\n",
       "      <td>247930</td>\n",
       "      <td>319885</td>\n",
       "      <td>324265</td>\n",
       "      <td>355590</td>\n",
       "      <td>385695</td>\n",
       "    </tr>\n",
       "    <tr>\n",
       "      <th>3</th>\n",
       "      <td>ENGLAND</td>\n",
       "      <td>248450</td>\n",
       "      <td>241410</td>\n",
       "      <td>225120</td>\n",
       "      <td>246700</td>\n",
       "      <td>236345</td>\n",
       "      <td>209035</td>\n",
       "      <td>207520</td>\n",
       "      <td>232460</td>\n",
       "      <td>239660</td>\n",
       "      <td>308565</td>\n",
       "      <td>312920</td>\n",
       "      <td>344065</td>\n",
       "      <td>373580</td>\n",
       "    </tr>\n",
       "    <tr>\n",
       "      <th>4</th>\n",
       "      <td>NORTH EAST REGION</td>\n",
       "      <td>7645</td>\n",
       "      <td>7655</td>\n",
       "      <td>7090</td>\n",
       "      <td>8795</td>\n",
       "      <td>7675</td>\n",
       "      <td>6625</td>\n",
       "      <td>5975</td>\n",
       "      <td>7070</td>\n",
       "      <td>7265</td>\n",
       "      <td>9685</td>\n",
       "      <td>9650</td>\n",
       "      <td>9635</td>\n",
       "      <td>10180</td>\n",
       "    </tr>\n",
       "    <tr>\n",
       "      <th>5</th>\n",
       "      <td>NORTH WEST REGION</td>\n",
       "      <td>28845</td>\n",
       "      <td>29220</td>\n",
       "      <td>27265</td>\n",
       "      <td>30195</td>\n",
       "      <td>27465</td>\n",
       "      <td>23920</td>\n",
       "      <td>22705</td>\n",
       "      <td>25695</td>\n",
       "      <td>26535</td>\n",
       "      <td>35285</td>\n",
       "      <td>34275</td>\n",
       "      <td>36500</td>\n",
       "      <td>42035</td>\n",
       "    </tr>\n",
       "    <tr>\n",
       "      <th>6</th>\n",
       "      <td>YORKSHIRE AND THE HUMBER REGION</td>\n",
       "      <td>20470</td>\n",
       "      <td>19930</td>\n",
       "      <td>18555</td>\n",
       "      <td>20385</td>\n",
       "      <td>18675</td>\n",
       "      <td>17005</td>\n",
       "      <td>16630</td>\n",
       "      <td>17235</td>\n",
       "      <td>17680</td>\n",
       "      <td>23120</td>\n",
       "      <td>23465</td>\n",
       "      <td>25140</td>\n",
       "      <td>26775</td>\n",
       "    </tr>\n",
       "    <tr>\n",
       "      <th>7</th>\n",
       "      <td>EAST MIDLANDS REGION</td>\n",
       "      <td>18805</td>\n",
       "      <td>19140</td>\n",
       "      <td>17715</td>\n",
       "      <td>18610</td>\n",
       "      <td>16785</td>\n",
       "      <td>14860</td>\n",
       "      <td>14325</td>\n",
       "      <td>16055</td>\n",
       "      <td>16625</td>\n",
       "      <td>22035</td>\n",
       "      <td>22035</td>\n",
       "      <td>25345</td>\n",
       "      <td>24630</td>\n",
       "    </tr>\n",
       "    <tr>\n",
       "      <th>8</th>\n",
       "      <td>WEST MIDLANDS REGION</td>\n",
       "      <td>23010</td>\n",
       "      <td>23115</td>\n",
       "      <td>21025</td>\n",
       "      <td>22805</td>\n",
       "      <td>20585</td>\n",
       "      <td>18245</td>\n",
       "      <td>17805</td>\n",
       "      <td>19555</td>\n",
       "      <td>19645</td>\n",
       "      <td>25735</td>\n",
       "      <td>25740</td>\n",
       "      <td>29350</td>\n",
       "      <td>34695</td>\n",
       "    </tr>\n",
       "    <tr>\n",
       "      <th>9</th>\n",
       "      <td>EAST REGION</td>\n",
       "      <td>27600</td>\n",
       "      <td>26195</td>\n",
       "      <td>25055</td>\n",
       "      <td>27600</td>\n",
       "      <td>25975</td>\n",
       "      <td>23535</td>\n",
       "      <td>22580</td>\n",
       "      <td>24930</td>\n",
       "      <td>25335</td>\n",
       "      <td>32570</td>\n",
       "      <td>32595</td>\n",
       "      <td>35440</td>\n",
       "      <td>45400</td>\n",
       "    </tr>\n",
       "    <tr>\n",
       "      <th>10</th>\n",
       "      <td>LONDON REGION</td>\n",
       "      <td>53620</td>\n",
       "      <td>51285</td>\n",
       "      <td>47890</td>\n",
       "      <td>53120</td>\n",
       "      <td>57955</td>\n",
       "      <td>50575</td>\n",
       "      <td>52755</td>\n",
       "      <td>61395</td>\n",
       "      <td>65095</td>\n",
       "      <td>83600</td>\n",
       "      <td>88580</td>\n",
       "      <td>100920</td>\n",
       "      <td>102135</td>\n",
       "    </tr>\n",
       "    <tr>\n",
       "      <th>11</th>\n",
       "      <td>SOUTH EAST REGION</td>\n",
       "      <td>44345</td>\n",
       "      <td>42555</td>\n",
       "      <td>39195</td>\n",
       "      <td>42320</td>\n",
       "      <td>40365</td>\n",
       "      <td>36320</td>\n",
       "      <td>36910</td>\n",
       "      <td>40775</td>\n",
       "      <td>41245</td>\n",
       "      <td>50895</td>\n",
       "      <td>51280</td>\n",
       "      <td>55585</td>\n",
       "      <td>55955</td>\n",
       "    </tr>\n",
       "    <tr>\n",
       "      <th>12</th>\n",
       "      <td>SOUTH WEST REGION</td>\n",
       "      <td>24110</td>\n",
       "      <td>22315</td>\n",
       "      <td>21330</td>\n",
       "      <td>22870</td>\n",
       "      <td>20865</td>\n",
       "      <td>17950</td>\n",
       "      <td>17835</td>\n",
       "      <td>19750</td>\n",
       "      <td>20235</td>\n",
       "      <td>25640</td>\n",
       "      <td>25300</td>\n",
       "      <td>26150</td>\n",
       "      <td>31775</td>\n",
       "    </tr>\n",
       "    <tr>\n",
       "      <th>13</th>\n",
       "      <td>WALES</td>\n",
       "      <td>11525</td>\n",
       "      <td>10875</td>\n",
       "      <td>9760</td>\n",
       "      <td>9905</td>\n",
       "      <td>9220</td>\n",
       "      <td>8325</td>\n",
       "      <td>7505</td>\n",
       "      <td>8225</td>\n",
       "      <td>8270</td>\n",
       "      <td>11320</td>\n",
       "      <td>11345</td>\n",
       "      <td>11525</td>\n",
       "      <td>12115</td>\n",
       "    </tr>\n",
       "    <tr>\n",
       "      <th>14</th>\n",
       "      <td>SCOTLAND</td>\n",
       "      <td>14375</td>\n",
       "      <td>16935</td>\n",
       "      <td>15070</td>\n",
       "      <td>18165</td>\n",
       "      <td>16225</td>\n",
       "      <td>14725</td>\n",
       "      <td>15530</td>\n",
       "      <td>16940</td>\n",
       "      <td>17385</td>\n",
       "      <td>21535</td>\n",
       "      <td>21235</td>\n",
       "      <td>21725</td>\n",
       "      <td>22270</td>\n",
       "    </tr>\n",
       "    <tr>\n",
       "      <th>15</th>\n",
       "      <td>NORTHERN IRELAND</td>\n",
       "      <td>5730</td>\n",
       "      <td>5635</td>\n",
       "      <td>5580</td>\n",
       "      <td>5960</td>\n",
       "      <td>5655</td>\n",
       "      <td>3945</td>\n",
       "      <td>4590</td>\n",
       "      <td>3745</td>\n",
       "      <td>3935</td>\n",
       "      <td>4855</td>\n",
       "      <td>4805</td>\n",
       "      <td>5440</td>\n",
       "      <td>5935</td>\n",
       "    </tr>\n",
       "  </tbody>\n",
       "</table>\n",
       "</div>"
      ],
      "text/plain": [
       "                                 Region    2004    2005    2006    2007  \\\n",
       "0                        UNITED KINGDOM  280080  274855  255530  280730   \n",
       "1                         GREAT BRITAIN  274350  269220  249950  274770   \n",
       "2                     ENGLAND AND WALES  259975  252285  234880  256605   \n",
       "3                               ENGLAND  248450  241410  225120  246700   \n",
       "4                     NORTH EAST REGION    7645    7655    7090    8795   \n",
       "5                     NORTH WEST REGION   28845   29220   27265   30195   \n",
       "6       YORKSHIRE AND THE HUMBER REGION   20470   19930   18555   20385   \n",
       "7                 EAST MIDLANDS REGION    18805   19140   17715   18610   \n",
       "8                  WEST MIDLANDS REGION   23010   23115   21025   22805   \n",
       "9                           EAST REGION   27600   26195   25055   27600   \n",
       "10                        LONDON REGION   53620   51285   47890   53120   \n",
       "11                    SOUTH EAST REGION   44345   42555   39195   42320   \n",
       "12                    SOUTH WEST REGION   24110   22315   21330   22870   \n",
       "13                                WALES   11525   10875    9760    9905   \n",
       "14                             SCOTLAND   14375   16935   15070   18165   \n",
       "15                     NORTHERN IRELAND    5730    5635    5580    5960   \n",
       "\n",
       "      2008    2009    2010    2011    2012    2013    2014    2015    2016  \n",
       "0   267445  236030  235145  261370  269250  346275  350305  382755  413900  \n",
       "1   261790  232085  230555  257625  265315  341420  345500  377315  407965  \n",
       "2   245565  217360  215025  240685  247930  319885  324265  355590  385695  \n",
       "3   236345  209035  207520  232460  239660  308565  312920  344065  373580  \n",
       "4     7675    6625    5975    7070    7265    9685    9650    9635   10180  \n",
       "5    27465   23920   22705   25695   26535   35285   34275   36500   42035  \n",
       "6    18675   17005   16630   17235   17680   23120   23465   25140   26775  \n",
       "7    16785   14860   14325   16055   16625   22035   22035   25345   24630  \n",
       "8    20585   18245   17805   19555   19645   25735   25740   29350   34695  \n",
       "9    25975   23535   22580   24930   25335   32570   32595   35440   45400  \n",
       "10   57955   50575   52755   61395   65095   83600   88580  100920  102135  \n",
       "11   40365   36320   36910   40775   41245   50895   51280   55585   55955  \n",
       "12   20865   17950   17835   19750   20235   25640   25300   26150   31775  \n",
       "13    9220    8325    7505    8225    8270   11320   11345   11525   12115  \n",
       "14   16225   14725   15530   16940   17385   21535   21235   21725   22270  \n",
       "15    5655    3945    4590    3745    3935    4855    4805    5440    5935  "
      ]
     },
     "execution_count": 60,
     "metadata": {},
     "output_type": "execute_result"
    }
   ],
   "source": [
    "#joining 2004 & 2005 data on region and renaming columns to match year\n",
    "a_business_region_data = pd.merge(region_mid_business_data_2004,region_mid_business_data_2005,on=\"Region\",how=\"outer\")\n",
    "a_business_region_data = a_business_region_data.rename(columns={\"Births_x\":\"2004\",\"Births_y\":\"2005\"})\n",
    "\n",
    "#joining 2006 data on region and renaming column to match year\n",
    "ab_business_region_data = pd.merge(a_business_region_data,region_mid_business_data_2006,on=\"Region\",how=\"outer\")\n",
    "ab_business_region_data = ab_business_region_data.rename(columns={\"Births\":\"2006\"})\n",
    "\n",
    "#joining 2007 data on region and renaming column to match year\n",
    "abc_business_region_data = pd.merge(ab_business_region_data,region_mid_business_data_2007,on=\"Region\",how=\"outer\")\n",
    "abc_business_region_data = abc_business_region_data.rename(columns={\"Births\":\"2007\"})\n",
    "\n",
    "#joining 2008 data on region and renaming column to match year\n",
    "abcd_business_region_data = pd.merge(abc_business_region_data,region_mid_business_data_2008,on=\"Region\",how=\"outer\")\n",
    "abcd_business_region_data = abcd_business_region_data.rename(columns={\"Births\":\"2008\"})\n",
    "\n",
    "#joining 2009 data on region and renaming column to match year\n",
    "abcde_business_region_data = pd.merge(abcd_business_region_data,region_mid_business_data_2009,on=\"Region\",how=\"outer\")\n",
    "abcde_business_region_data = abcde_business_region_data.rename(columns={\"Births\":\"2009\"})\n",
    "\n",
    "#joining 2010 data on region and renaming column to match year\n",
    "abcdef_business_region_data = pd.merge(abcde_business_region_data,region_mid_business_data_2010,on=\"Region\",how=\"outer\")\n",
    "abcdef_business_region_data = abcdef_business_region_data.rename(columns={\"Births\":\"2010\"})\n",
    "\n",
    "#joining 2011 data on region and renaming column to match year\n",
    "abcdefg_business_region_data = pd.merge(abcdef_business_region_data,region_mid_business_data_2011,on=\"Region\",how=\"outer\")\n",
    "abcdefg_business_region_data = abcdefg_business_region_data.rename(columns={\"Births\":\"2011\"})\n",
    "\n",
    "#joining 2012 data on region and renaming column to match year\n",
    "abcdefgh_business_region_data = pd.merge(abcdefg_business_region_data,region_business_data_2012,on=\"Region\",how=\"outer\")\n",
    "abcdefgh_business_region_data = abcdefgh_business_region_data.rename(columns={\"Births\":\"2012\"})\n",
    "\n",
    "#joining 2013 data on region and renaming column to match year\n",
    "abcdefghi_business_region_data = pd.merge(abcdefgh_business_region_data,region_business_data_2013,on=\"Region\",how=\"outer\")\n",
    "abcdefghi_business_region_data = abcdefghi_business_region_data.rename(columns={\"Births\":\"2013\"})\n",
    "\n",
    "#joining 2014 data on region and renaming column to match year\n",
    "abcdefghij_business_region_data = pd.merge(abcdefghi_business_region_data,region_business_data_2014,on=\"Region\",how=\"outer\")\n",
    "abcdefghij_business_region_data = abcdefghij_business_region_data.rename(columns={\"Births\":\"2014\"})\n",
    "\n",
    "#joining 2015 data on region and renaming column to match year\n",
    "abcdefghijk_business_region_data = pd.merge(abcdefghij_business_region_data,region_business_data_2015,on=\"Region\",how=\"outer\")\n",
    "abcdefghijk_business_region_data = abcdefghijk_business_region_data.rename(columns={\"Births\":\"2015\"})\n",
    "\n",
    "#joining 2016 data on region and renaming column to match year\n",
    "region_business_data_all = pd.merge(abcdefghijk_business_region_data,region_business_data_2016,on=\"Region\",how=\"outer\")\n",
    "region_business_data_all = region_business_data_all.rename(columns={\"Births\":\"2016\"})\n",
    "\n",
    "region_business_data_all"
   ]
  },
  {
   "cell_type": "code",
   "execution_count": 93,
   "metadata": {},
   "outputs": [],
   "source": [
    "mean_region_business_data = region_business_data_all.drop([0,1,2,3,13,14,15])\n",
    "mean_region_business_data_all = pd.DataFrame({\"Years\":mean_region_business_data.mean()})\n",
    "mean_region_business_data_all.reset_index(level=0, inplace=True)\n",
    "mean_region_business_data_all = mean_region_business_data_all.drop([0])\n",
    "# mean_region_business_data_all"
   ]
  },
  {
   "cell_type": "code",
   "execution_count": 61,
   "metadata": {},
   "outputs": [],
   "source": [
    "# creating dataframe for only north east region\n",
    "north_east_business_births = pd.DataFrame({\"Years\":region_business_data_all.iloc[4]})\n",
    "north_east_business_births.reset_index(level=0, inplace=True)\n",
    "north_east_business_births = north_east_business_births.drop([0])\n",
    "# north_east_business_births"
   ]
  },
  {
   "cell_type": "code",
   "execution_count": 62,
   "metadata": {},
   "outputs": [],
   "source": [
    "# creating dataframe for only north west region\n",
    "north_west_business_births = pd.DataFrame({\"Years\":region_business_data_all.iloc[5]})\n",
    "north_west_business_births.reset_index(level=0, inplace=True)\n",
    "north_west_business_births = north_west_business_births.drop([0])\n",
    "# north_west_business_births"
   ]
  },
  {
   "cell_type": "code",
   "execution_count": 63,
   "metadata": {},
   "outputs": [],
   "source": [
    "# creating dataframe for only yorkshire region\n",
    "yorkshire_business_births = pd.DataFrame({\"Years\":region_business_data_all.iloc[6]})\n",
    "yorkshire_business_births.reset_index(level=0, inplace=True)\n",
    "yorkshire_business_births = yorkshire_business_births.drop([0])\n",
    "# yorkshire_business_births"
   ]
  },
  {
   "cell_type": "code",
   "execution_count": 64,
   "metadata": {},
   "outputs": [],
   "source": [
    "# creating dataframe for only east midlands region\n",
    "east_midlands_business_births = pd.DataFrame({\"Years\":region_business_data_all.iloc[7]})\n",
    "east_midlands_business_births.reset_index(level=0, inplace=True)\n",
    "east_midlands_business_births = east_midlands_business_births.drop([0])\n",
    "# east_midlands_business_births"
   ]
  },
  {
   "cell_type": "code",
   "execution_count": 66,
   "metadata": {},
   "outputs": [],
   "source": [
    "# creating dataframe for only west midlands region\n",
    "west_midlands_business_births = pd.DataFrame({\"Years\":region_business_data_all.iloc[8]})\n",
    "west_midlands_business_births.reset_index(level=0, inplace=True)\n",
    "west_midlands_business_births = west_midlands_business_births.drop([0])\n",
    "# west_midlands_business_births"
   ]
  },
  {
   "cell_type": "code",
   "execution_count": 67,
   "metadata": {},
   "outputs": [],
   "source": [
    "# creating dataframe for only east region\n",
    "east_business_births = pd.DataFrame({\"Years\":region_business_data_all.iloc[9]})\n",
    "east_business_births.reset_index(level=0, inplace=True)\n",
    "east_business_births = east_business_births.drop([0])\n",
    "# east_business_births"
   ]
  },
  {
   "cell_type": "code",
   "execution_count": 68,
   "metadata": {},
   "outputs": [],
   "source": [
    "# creating dataframe for only london region\n",
    "london_business_births = pd.DataFrame({\"Years\":region_business_data_all.iloc[10]})\n",
    "london_business_births.reset_index(level=0, inplace=True)\n",
    "london_business_births = london_business_births.drop([0])\n",
    "# london_business_births"
   ]
  },
  {
   "cell_type": "code",
   "execution_count": 69,
   "metadata": {},
   "outputs": [],
   "source": [
    "# creating dataframe for only south east region\n",
    "south_east_business_births = pd.DataFrame({\"Years\":region_business_data_all.iloc[11]})\n",
    "south_east_business_births.reset_index(level=0, inplace=True)\n",
    "south_east_business_births = south_east_business_births.drop([0])\n",
    "# south_east_business_births"
   ]
  },
  {
   "cell_type": "code",
   "execution_count": 70,
   "metadata": {},
   "outputs": [],
   "source": [
    "# creating dataframe for only south west region\n",
    "south_west_business_births = pd.DataFrame({\"Years\":region_business_data_all.iloc[12]})\n",
    "south_west_business_births.reset_index(level=0, inplace=True)\n",
    "south_west_business_births = south_west_business_births.drop([0])\n",
    "# south_west_business_births"
   ]
  },
  {
   "cell_type": "code",
   "execution_count": 95,
   "metadata": {},
   "outputs": [],
   "source": [
    "# creating dataframe for only scotland region\n",
    "scotland_business_births = pd.DataFrame({\"Years\":region_business_data_all.iloc[14]})\n",
    "scotland_business_births.reset_index(level=0, inplace=True)\n",
    "scotland_business_births = scotland_business_births.drop([0])\n",
    "# scotland_business_births"
   ]
  },
  {
   "cell_type": "code",
   "execution_count": 92,
   "metadata": {},
   "outputs": [
    {
     "data": {
      "text/plain": [
       "<matplotlib.legend.Legend at 0x243318e2e80>"
      ]
     },
     "execution_count": 92,
     "metadata": {},
     "output_type": "execute_result"
    },
    {
     "data": {
      "image/png": "[encoded data removed]",
      "text/plain": [
       "<Figure size 432x288 with 1 Axes>"
      ]
     },
     "metadata": {
      "needs_background": "light"
     },
     "output_type": "display_data"
    }
   ],
   "source": [
    "#plotting each regions business births into one single plot\n",
    "plt.plot(north_east_business_births[\"index\"],north_east_business_births[\"Years\"], label=\"North East\")\n",
    "plt.plot(north_west_business_births[\"index\"],north_west_business_births[\"Years\"],label = \"North West\")\n",
    "plt.plot(yorkshire_business_births[\"index\"],yorkshire_business_births[\"Years\"], label = \"Yorkshire\")\n",
    "plt.plot(east_midlands_business_births[\"index\"],east_midlands_business_births[\"Years\"], label = \"East Midlands\")\n",
    "plt.plot(west_midlands_business_births[\"index\"],west_midlands_business_births[\"Years\"], label = \"West Midlands\")\n",
    "plt.plot(east_business_births[\"index\"],east_business_births[\"Years\"], label = \"East\")\n",
    "plt.plot(london_business_births[\"index\"],london_business_births[\"Years\"], label = \"London\")\n",
    "plt.plot(south_east_business_births[\"index\"],south_east_business_births[\"Years\"],label = \"South East\")\n",
    "plt.plot(south_west_business_births[\"index\"],south_west_business_births[\"Years\"], label = \"South West\")\n",
    "plt.plot(mean_region_business_data_all[\"index\"],mean_region_business_data_all[\"Years\"],label=\"Average Business Births\",linewidth=3)\n",
    "plt.xticks(rotation=45)\n",
    "plt.title(\"Business Births by Region per Year\")\n",
    "plt.xlabel(\"Year\")\n",
    "plt.ylabel(\"Total Business Births\")\n",
    "plt.legend(bbox_to_anchor=(1.1, 1.05))"
   ]
  },
  {
   "cell_type": "code",
   "execution_count": 104,
   "metadata": {},
   "outputs": [],
   "source": [
    "# average leave business regions\n",
    "mean_leave_business_data = region_business_data_all.drop([0,1,2,3,4,5,8,11,12,13,14,15])\n",
    "mean_leave_business_data_all = pd.DataFrame({\"Years\":mean_stay_business_data.mean()})\n",
    "mean_leave_business_data_all.reset_index(level=0, inplace=True)\n",
    "mean_leave_business_data_all = mean_leave_business_data_all.drop([0])"
   ]
  },
  {
   "cell_type": "code",
   "execution_count": 105,
   "metadata": {},
   "outputs": [
    {
     "data": {
      "text/plain": [
       "([0, 1, 2, 3, 4, 5, 6, 7, 8, 9, 10, 11, 12],\n",
       " <a list of 13 Text xticklabel objects>)"
      ]
     },
     "execution_count": 105,
     "metadata": {},
     "output_type": "execute_result"
    },
    {
     "data": {
      "image/png": "[encoded data removed]",
      "text/plain": [
       "<Figure size 432x288 with 1 Axes>"
      ]
     },
     "metadata": {
      "needs_background": "light"
     },
     "output_type": "display_data"
    }
   ],
   "source": [
    "#regions we decided upon on leave and stay\n",
    "#this will be on leave\n",
    "plt.plot(east_business_births[\"index\"],east_business_births[\"Years\"],marker=\"o\", label = \"East\")\n",
    "plt.plot(east_midlands_business_births[\"index\"],east_midlands_business_births[\"Years\"],marker=\"o\", label = \"East Midlands\")\n",
    "plt.plot(yorkshire_business_births[\"index\"],yorkshire_business_births[\"Years\"],marker=\"o\", label = \"Yorkshire\")\n",
    "plt.plot(london_business_births[\"index\"],london_business_births[\"Years\"],marker=\"o\", label = \"London\")\n",
    "plt.plot(mean_leave_business_data_all[\"index\"],mean_leave_business_data_all[\"Years\"],marker=\"o\", label = \"Average\")\n",
    "plt.title(\"Business Births by 'Strong Leave' Region per Year\")\n",
    "plt.xlabel(\"Year\")\n",
    "plt.ylabel(\"Total Business Births\")\n",
    "plt.legend(loc=\"best\")\n",
    "plt.xticks(rotation=45)"
   ]
  },
  {
   "cell_type": "code",
   "execution_count": 100,
   "metadata": {},
   "outputs": [],
   "source": [
    "# average for strong stay business regions\n",
    "mean_stay_business_data = region_business_data_all.drop([0,1,2,3,4,5,6,7,8,12,13,15])\n",
    "mean_stay_business_data_all = pd.DataFrame({\"Years\":mean_stay_business_data.mean()})\n",
    "mean_stay_business_data_all.reset_index(level=0, inplace=True)\n",
    "mean_stay_business_data_all = mean_stay_business_data_all.drop([0])"
   ]
  },
  {
   "cell_type": "code",
   "execution_count": 102,
   "metadata": {},
   "outputs": [
    {
     "data": {
      "text/plain": [
       "([0, 1, 2, 3, 4, 5, 6, 7, 8, 9, 10, 11, 12],\n",
       " <a list of 13 Text xticklabel objects>)"
      ]
     },
     "execution_count": 102,
     "metadata": {},
     "output_type": "execute_result"
    },
    {
     "data": {
      "image/png": "[encoded data removed]",
      "text/plain": [
       "<Figure size 432x288 with 1 Axes>"
      ]
     },
     "metadata": {
      "needs_background": "light"
     },
     "output_type": "display_data"
    }
   ],
   "source": [
    "#this will be on stay\n",
    "plt.plot(london_business_births[\"index\"],london_business_births[\"Years\"],marker=\"o\", label = \"London\")\n",
    "plt.plot(south_east_business_births[\"index\"],south_east_business_births[\"Years\"],marker=\"o\", label = \"South East\")\n",
    "plt.plot(east_business_births[\"index\"],east_business_births[\"Years\"],marker=\"o\", label = \"East\")\n",
    "plt.plot(scotland_business_births[\"index\"],scotland_business_births[\"Years\"],marker=\"o\", label = \"Scotland\")\n",
    "plt.plot(mean_stay_business_data_all[\"index\"],mean_stay_business_data_all[\"Years\"],marker=\"o\", label = \"Average\")\n",
    "plt.title(\"Business Births by 'Strong Stay' Region per Year\")\n",
    "plt.xlabel(\"Year\")\n",
    "plt.ylabel(\"Total Business Births\")\n",
    "plt.legend(loc=\"best\")\n",
    "plt.xticks(rotation=45)"
   ]
  },
  {
   "cell_type": "code",
   "execution_count": null,
   "metadata": {},
   "outputs": [],
   "source": []
  },
  {
   "cell_type": "code",
   "execution_count": null,
   "metadata": {},
   "outputs": [],
   "source": []
  }
 ],
 "metadata": {
  "kernelspec": {
   "display_name": "Python 3",
   "language": "python",
   "name": "python3"
  },
  "language_info": {
   "codemirror_mode": {
    "name": "ipython",
    "version": 3
   },
   "file_extension": ".py",
   "mimetype": "text/x-python",
   "name": "python",
   "nbconvert_exporter": "python",
   "pygments_lexer": "ipython3",
   "version": "3.7.1"
  }
 },
 "nbformat": 4,
 "nbformat_minor": 2
}
