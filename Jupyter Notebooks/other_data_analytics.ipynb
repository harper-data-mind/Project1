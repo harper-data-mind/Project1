{
 "cells": [
  {
   "cell_type": "markdown",
   "metadata": {},
   "source": [
    "# Other Immigration Data Analysis (Not in Presentation)"
   ]
  },
  {
   "cell_type": "code",
   "execution_count": 21,
   "metadata": {},
   "outputs": [],
   "source": [
    "import numpy as np \n",
    "import pandas as pd\n",
    "import matplotlib.pyplot as plt\n",
    "import matplotlib.patches as mpatches"
   ]
  },
  {
   "cell_type": "markdown",
   "metadata": {},
   "source": [
    "### Why are people immigrating to the UK? \n",
    "+ Original data provided was in a number of excel tables which was not conducive for cleaning in pandas\n",
    "+ In order to look at data, I cleaned data within excel by summing for regions provided and dividing \"Rest of World\" data by region for more comprehensive view of the reason people were providing and where they were coming from"
   ]
  },
  {
   "cell_type": "code",
   "execution_count": 11,
   "metadata": {},
   "outputs": [],
   "source": [
    "#import edited csv\n",
    "nationalities_csv = \"../Resources/reason_for_migration.csv\""
   ]
  },
  {
   "cell_type": "code",
   "execution_count": 12,
   "metadata": {},
   "outputs": [],
   "source": [
    "#read csv file\n",
    "nationalities_data = pd.read_csv(nationalities_csv)"
   ]
  },
  {
   "cell_type": "code",
   "execution_count": 13,
   "metadata": {},
   "outputs": [
    {
     "data": {
      "text/html": [
       "<div>\n",
       "<style scoped>\n",
       "    .dataframe tbody tr th:only-of-type {\n",
       "        vertical-align: middle;\n",
       "    }\n",
       "\n",
       "    .dataframe tbody tr th {\n",
       "        vertical-align: top;\n",
       "    }\n",
       "\n",
       "    .dataframe thead th {\n",
       "        text-align: right;\n",
       "    }\n",
       "</style>\n",
       "<table border=\"1\" class=\"dataframe\">\n",
       "  <thead>\n",
       "    <tr style=\"text-align: right;\">\n",
       "      <th></th>\n",
       "      <th>Main Reason for Migration</th>\n",
       "      <th>European Union</th>\n",
       "      <th>Non-EU Europeans</th>\n",
       "      <th>Asia</th>\n",
       "      <th>Africa</th>\n",
       "      <th>North and South America</th>\n",
       "      <th>Oceania</th>\n",
       "      <th>Total</th>\n",
       "    </tr>\n",
       "  </thead>\n",
       "  <tbody>\n",
       "    <tr>\n",
       "      <th>0</th>\n",
       "      <td>Work Related</td>\n",
       "      <td>1,682</td>\n",
       "      <td>98</td>\n",
       "      <td>533</td>\n",
       "      <td>247</td>\n",
       "      <td>154</td>\n",
       "      <td>66</td>\n",
       "      <td>2,780</td>\n",
       "    </tr>\n",
       "    <tr>\n",
       "      <th>1</th>\n",
       "      <td>Formal Study</td>\n",
       "      <td>383</td>\n",
       "      <td>50</td>\n",
       "      <td>464</td>\n",
       "      <td>188</td>\n",
       "      <td>117</td>\n",
       "      <td>11</td>\n",
       "      <td>1,213</td>\n",
       "    </tr>\n",
       "    <tr>\n",
       "      <th>2</th>\n",
       "      <td>Accompany / Join</td>\n",
       "      <td>1,278</td>\n",
       "      <td>145</td>\n",
       "      <td>1,580</td>\n",
       "      <td>618</td>\n",
       "      <td>382</td>\n",
       "      <td>90</td>\n",
       "      <td>4,093</td>\n",
       "    </tr>\n",
       "    <tr>\n",
       "      <th>3</th>\n",
       "      <td>Other</td>\n",
       "      <td>294</td>\n",
       "      <td>72</td>\n",
       "      <td>371</td>\n",
       "      <td>373</td>\n",
       "      <td>100</td>\n",
       "      <td>45</td>\n",
       "      <td>1,225</td>\n",
       "    </tr>\n",
       "    <tr>\n",
       "      <th>4</th>\n",
       "      <td>Totals</td>\n",
       "      <td>3,637</td>\n",
       "      <td>365</td>\n",
       "      <td>2,948</td>\n",
       "      <td>1,426</td>\n",
       "      <td>753</td>\n",
       "      <td>212</td>\n",
       "      <td>9,311</td>\n",
       "    </tr>\n",
       "  </tbody>\n",
       "</table>\n",
       "</div>"
      ],
      "text/plain": [
       "  Main Reason for Migration European Union  Non-EU Europeans    Asia Africa  \\\n",
       "0              Work Related          1,682                 98    533    247   \n",
       "1              Formal Study            383                 50    464    188   \n",
       "2          Accompany / Join          1,278                145  1,580    618   \n",
       "3                     Other            294                 72    371    373   \n",
       "4                   Totals           3,637                365  2,948  1,426   \n",
       "\n",
       "   North and South America   Oceania Total   \n",
       "0                       154       66  2,780  \n",
       "1                       117       11  1,213  \n",
       "2                       382       90  4,093  \n",
       "3                       100       45  1,225  \n",
       "4                       753      212  9,311  "
      ]
     },
     "execution_count": 13,
     "metadata": {},
     "output_type": "execute_result"
    }
   ],
   "source": [
    "#create nationality data frame\n",
    "nationality_df = pd.DataFrame(nationalities_data)\n",
    "nationality_df"
   ]
  },
  {
   "cell_type": "code",
   "execution_count": 14,
   "metadata": {
    "scrolled": true
   },
   "outputs": [
    {
     "data": {
      "text/html": [
       "<div>\n",
       "<style scoped>\n",
       "    .dataframe tbody tr th:only-of-type {\n",
       "        vertical-align: middle;\n",
       "    }\n",
       "\n",
       "    .dataframe tbody tr th {\n",
       "        vertical-align: top;\n",
       "    }\n",
       "\n",
       "    .dataframe thead th {\n",
       "        text-align: right;\n",
       "    }\n",
       "</style>\n",
       "<table border=\"1\" class=\"dataframe\">\n",
       "  <thead>\n",
       "    <tr style=\"text-align: right;\">\n",
       "      <th></th>\n",
       "      <th>European Union</th>\n",
       "      <th>Non-EU Europeans</th>\n",
       "      <th>Asia</th>\n",
       "      <th>Africa</th>\n",
       "      <th>North and South America</th>\n",
       "      <th>Oceania</th>\n",
       "      <th>Total</th>\n",
       "    </tr>\n",
       "    <tr>\n",
       "      <th>Main Reason for Migration</th>\n",
       "      <th></th>\n",
       "      <th></th>\n",
       "      <th></th>\n",
       "      <th></th>\n",
       "      <th></th>\n",
       "      <th></th>\n",
       "      <th></th>\n",
       "    </tr>\n",
       "  </thead>\n",
       "  <tbody>\n",
       "    <tr>\n",
       "      <th>Work Related</th>\n",
       "      <td>1,682</td>\n",
       "      <td>98</td>\n",
       "      <td>533</td>\n",
       "      <td>247</td>\n",
       "      <td>154</td>\n",
       "      <td>66</td>\n",
       "      <td>2,780</td>\n",
       "    </tr>\n",
       "    <tr>\n",
       "      <th>Formal Study</th>\n",
       "      <td>383</td>\n",
       "      <td>50</td>\n",
       "      <td>464</td>\n",
       "      <td>188</td>\n",
       "      <td>117</td>\n",
       "      <td>11</td>\n",
       "      <td>1,213</td>\n",
       "    </tr>\n",
       "    <tr>\n",
       "      <th>Accompany / Join</th>\n",
       "      <td>1,278</td>\n",
       "      <td>145</td>\n",
       "      <td>1,580</td>\n",
       "      <td>618</td>\n",
       "      <td>382</td>\n",
       "      <td>90</td>\n",
       "      <td>4,093</td>\n",
       "    </tr>\n",
       "    <tr>\n",
       "      <th>Other</th>\n",
       "      <td>294</td>\n",
       "      <td>72</td>\n",
       "      <td>371</td>\n",
       "      <td>373</td>\n",
       "      <td>100</td>\n",
       "      <td>45</td>\n",
       "      <td>1,225</td>\n",
       "    </tr>\n",
       "    <tr>\n",
       "      <th>Totals</th>\n",
       "      <td>3,637</td>\n",
       "      <td>365</td>\n",
       "      <td>2,948</td>\n",
       "      <td>1,426</td>\n",
       "      <td>753</td>\n",
       "      <td>212</td>\n",
       "      <td>9,311</td>\n",
       "    </tr>\n",
       "  </tbody>\n",
       "</table>\n",
       "</div>"
      ],
      "text/plain": [
       "                          European Union  Non-EU Europeans    Asia Africa  \\\n",
       "Main Reason for Migration                                                   \n",
       "Work Related                       1,682                 98    533    247   \n",
       "Formal Study                         383                 50    464    188   \n",
       "Accompany / Join                   1,278                145  1,580    618   \n",
       "Other                                294                 72    371    373   \n",
       "Totals                             3,637                365  2,948  1,426   \n",
       "\n",
       "                           North and South America   Oceania Total   \n",
       "Main Reason for Migration                                            \n",
       "Work Related                                    154       66  2,780  \n",
       "Formal Study                                    117       11  1,213  \n",
       "Accompany / Join                                382       90  4,093  \n",
       "Other                                           100       45  1,225  \n",
       "Totals                                          753      212  9,311  "
      ]
     },
     "execution_count": 14,
     "metadata": {},
     "output_type": "execute_result"
    }
   ],
   "source": [
    "#set index\n",
    "nationality_df.set_index(\"Main Reason for Migration\")"
   ]
  },
  {
   "cell_type": "code",
   "execution_count": 15,
   "metadata": {},
   "outputs": [
    {
     "data": {
      "image/png": "[encoded data removed]",
      "text/plain": [
       "<Figure size 432x288 with 1 Axes>"
      ]
     },
     "metadata": {
      "needs_background": "light"
     },
     "output_type": "display_data"
    }
   ],
   "source": [
    "#set width of bar\n",
    "barWidth = 0.25\n",
    "\n",
    "#set up the bars \n",
    "bar1 = [1682, 98, 533, 247, 154, 66]\n",
    "bar2 = [383, 50, 464, 188, 117, 11]\n",
    "bar3 = [1278, 145, 1580, 618, 382, 90]\n",
    "bar4 = [294, 72, 371, 373, 100, 45]\n",
    "\n",
    "#set position of bars \n",
    "r1 = np.arange(len(bar1))\n",
    "r2 = [x + barWidth for x in r1]\n",
    "r3 = [x + barWidth for x in r2]\n",
    "r4 = [x + barWidth for x in r3]\n",
    "\n",
    "# Make the plot\n",
    "plt.bar(r1, bar1, color='blue', width=barWidth, edgecolor='white', label='Work')\n",
    "plt.bar(r2, bar2, color='steelblue', width=barWidth, edgecolor='white', label='Study')\n",
    "plt.bar(r3, bar3, color='skyblue', width=barWidth, edgecolor='white', label='Join Family')\n",
    "plt.bar(r4, bar4, color='navy', width=barWidth, edgecolor='white', label ='Other')\n",
    "\n",
    "# Format graph \n",
    "plt.title(\"Reasons Given for Immigrating to the UK in January-June 2017\")\n",
    "plt.xlabel('Respondents Region of Origin')\n",
    "plt.ylabel('Number Surveyed (thousands)')\n",
    "\n",
    "# Add xticks on the middle of the group bars\n",
    "plt.xticks([r + barWidth for r in range(len(bar1))], ['EU Citizens', 'Non-EU Europeans', 'Asia', 'Africa','The Americas','Oceania'],rotation=45)\n",
    "plt.legend()\n",
    "plt.show()"
   ]
  },
  {
   "cell_type": "code",
   "execution_count": 22,
   "metadata": {},
   "outputs": [
    {
     "data": {
      "text/plain": [
       "<Figure size 432x288 with 0 Axes>"
      ]
     },
     "metadata": {},
     "output_type": "display_data"
    }
   ],
   "source": [
    "plt.savefig('Reasons Given for Immigrating to the UK in January-June 2017') "
   ]
  },
  {
   "cell_type": "markdown",
   "metadata": {},
   "source": [
    "## Main Findings\n",
    "+ It was surprising to see that \"Join Family\" was given more frequently as a reason for immigrating to the UK than study\n",
    "+ Immigrating for \"work\" was also given less than expected for people immigrating except for those coming from EU countries "
   ]
  },
  {
   "cell_type": "code",
   "execution_count": 16,
   "metadata": {},
   "outputs": [],
   "source": [
    "#import edited csv\n",
    "nationalities_csv = \"../Resources/Jan_Jun2017-TopTen_Origin_Countries.csv\""
   ]
  },
  {
   "cell_type": "markdown",
   "metadata": {},
   "source": [
    "## Where are people coming from? \n",
    "+ I used another excel spreadsheet from to look at top countries of birth for UK Residents \n",
    "+ Only cleaning done in excel was the on formatting that has challenging to fix in pandas "
   ]
  },
  {
   "cell_type": "code",
   "execution_count": 17,
   "metadata": {},
   "outputs": [],
   "source": [
    "#read csv file\n",
    "nationalities_data = pd.read_csv(nationalities_csv)"
   ]
  },
  {
   "cell_type": "code",
   "execution_count": 18,
   "metadata": {},
   "outputs": [
    {
     "data": {
      "text/html": [
       "<div>\n",
       "<style scoped>\n",
       "    .dataframe tbody tr th:only-of-type {\n",
       "        vertical-align: middle;\n",
       "    }\n",
       "\n",
       "    .dataframe tbody tr th {\n",
       "        vertical-align: top;\n",
       "    }\n",
       "\n",
       "    .dataframe thead th {\n",
       "        text-align: right;\n",
       "    }\n",
       "</style>\n",
       "<table border=\"1\" class=\"dataframe\">\n",
       "  <thead>\n",
       "    <tr style=\"text-align: right;\">\n",
       "      <th></th>\n",
       "      <th>Unnamed: 0</th>\n",
       "      <th>Country</th>\n",
       "      <th>Nationals of Country of Birth</th>\n",
       "    </tr>\n",
       "  </thead>\n",
       "  <tbody>\n",
       "    <tr>\n",
       "      <th>0</th>\n",
       "      <td>1</td>\n",
       "      <td>Poland</td>\n",
       "      <td>884</td>\n",
       "    </tr>\n",
       "    <tr>\n",
       "      <th>1</th>\n",
       "      <td>2</td>\n",
       "      <td>India</td>\n",
       "      <td>310</td>\n",
       "    </tr>\n",
       "    <tr>\n",
       "      <th>2</th>\n",
       "      <td>3</td>\n",
       "      <td>Pakistan</td>\n",
       "      <td>163</td>\n",
       "    </tr>\n",
       "    <tr>\n",
       "      <th>3</th>\n",
       "      <td>4</td>\n",
       "      <td>Romania</td>\n",
       "      <td>373</td>\n",
       "    </tr>\n",
       "    <tr>\n",
       "      <th>4</th>\n",
       "      <td>5</td>\n",
       "      <td>Republic of Ireland</td>\n",
       "      <td>321</td>\n",
       "    </tr>\n",
       "    <tr>\n",
       "      <th>5</th>\n",
       "      <td>6</td>\n",
       "      <td>Germany</td>\n",
       "      <td>112</td>\n",
       "    </tr>\n",
       "    <tr>\n",
       "      <th>6</th>\n",
       "      <td>7</td>\n",
       "      <td>Bangladesh</td>\n",
       "      <td>75</td>\n",
       "    </tr>\n",
       "    <tr>\n",
       "      <th>7</th>\n",
       "      <td>8</td>\n",
       "      <td>Italy</td>\n",
       "      <td>200</td>\n",
       "    </tr>\n",
       "    <tr>\n",
       "      <th>8</th>\n",
       "      <td>9</td>\n",
       "      <td>South Africa</td>\n",
       "      <td>67</td>\n",
       "    </tr>\n",
       "    <tr>\n",
       "      <th>9</th>\n",
       "      <td>10</td>\n",
       "      <td>China</td>\n",
       "      <td>106</td>\n",
       "    </tr>\n",
       "  </tbody>\n",
       "</table>\n",
       "</div>"
      ],
      "text/plain": [
       "   Unnamed: 0              Country  Nationals of Country of Birth\n",
       "0           1               Poland                            884\n",
       "1           2                India                            310\n",
       "2           3             Pakistan                            163\n",
       "3           4              Romania                            373\n",
       "4           5  Republic of Ireland                            321\n",
       "5           6              Germany                            112\n",
       "6           7           Bangladesh                             75\n",
       "7           8                Italy                            200\n",
       "8           9         South Africa                             67\n",
       "9          10                China                            106"
      ]
     },
     "execution_count": 18,
     "metadata": {},
     "output_type": "execute_result"
    }
   ],
   "source": [
    "#create nationality data frame\n",
    "nationality_df = pd.DataFrame(nationalities_data)\n",
    "nationality_df"
   ]
  },
  {
   "cell_type": "code",
   "execution_count": 19,
   "metadata": {},
   "outputs": [
    {
     "data": {
      "image/png": "[encoded data removed]",
      "text/plain": [
       "<Figure size 432x288 with 1 Axes>"
      ]
     },
     "metadata": {},
     "output_type": "display_data"
    }
   ],
   "source": [
    "#create pie chart to show ration of different groups\n",
    "country_labels = ['Poland', 'India', 'Pakistan','Romania','Republic of Ireland','Germany','Bangladesh','Italy','South Africa','China']\n",
    "sizes = [884,310,163,373,321,112,75,200,67,106]\n",
    "country_colors= ['dodgerblue','green','limegreen','lightblue', 'skyblue','steelblue','forestgreen','cornflowerblue','gray','seagreen']\n",
    "\n",
    "fig1, ax1 =plt.subplots()\n",
    "ax1.pie (sizes, colors = country_colors, labels=country_labels, autopct='%1.1f%%', pctdistance=.85, startangle=180)\n",
    "\n",
    "#draw circle\n",
    "centre_circle = plt.Circle((0,0),0.45,fc='white')\n",
    "fig = plt.gcf()\n",
    "fig.gca().add_artist(centre_circle)\n",
    "\n",
    "# Equal aspect ratio ensures that pie is drawn as a circle\n",
    "plt.title(\"UK Residents Born Abroad: Top Ten Most Common Countries of Birth (January - June 2017)\")\n",
    "plt.tight_layout()\n",
    "plt.show()"
   ]
  },
  {
   "cell_type": "code",
   "execution_count": 23,
   "metadata": {},
   "outputs": [
    {
     "data": {
      "text/plain": [
       "<Figure size 432x288 with 0 Axes>"
      ]
     },
     "metadata": {},
     "output_type": "display_data"
    }
   ],
   "source": [
    "plt.savefig('UK Residents Born Abroad: Top Ten Most Common Countries of Birth (January - June 2017)')"
   ]
  },
  {
   "cell_type": "markdown",
   "metadata": {},
   "source": [
    "## Main Findings\n",
    "+ All blue indicates countries within Europe, all green indicate Asia, and the one gray sliver indicates Africa \n",
    "+ Most of the immigrants were from European countries and top four countries of are part of the EU (possibly due to ease of migration within EU system)  \n",
    "+ Largest Asian countries were former UK colonies and part of the UK Commonwealth"
   ]
  },
  {
   "cell_type": "code",
   "execution_count": null,
   "metadata": {},
   "outputs": [],
   "source": []
  }
 ],
 "metadata": {
  "kernelspec": {
   "display_name": "Python 3",
   "language": "python",
   "name": "python3"
  },
  "language_info": {
   "codemirror_mode": {
    "name": "ipython",
    "version": 3
   },
   "file_extension": ".py",
   "mimetype": "text/x-python",
   "name": "python",
   "nbconvert_exporter": "python",
   "pygments_lexer": "ipython3",
   "version": "3.7.1"
  }
 },
 "nbformat": 4,
 "nbformat_minor": 2
}
